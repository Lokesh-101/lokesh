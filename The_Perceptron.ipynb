{
 "cells": [
  {
   "cell_type": "markdown",
   "metadata": {
    "id": "vYiZq0X2oB5t"
   },
   "source": [
    "# **CSCE 5218 / CSCE 4930 Deep Learning**\n",
    "\n",
    "# **The Perceptron** (20 pt)\n"
   ]
  },
  {
   "cell_type": "code",
   "execution_count": 1,
   "metadata": {
    "colab": {
     "base_uri": "https://localhost:8080/"
    },
    "id": "vGVmKzgG2Ium",
    "outputId": "4cc2ca21-861a-4fba-a38c-83e3ec04bec8"
   },
   "outputs": [],
   "source": [
    "# Get the datasets\n",
    "def print_file_head(file_path, lines=5):\n",
    "    \"\"\"Reads and prints the first few lines of a text file.\"\"\"\n",
    "    try:\n",
    "        with open(file_path, \"r\", encoding=\"utf-8\") as file:\n",
    "            head = [next(file) for _ in range(lines)]\n",
    "            print(f\"Head of {file_path}:\\n{''.join(head)}\\n\")\n",
    "    except FileNotFoundError:\n",
    "        print(f\"Error: {file_path} not found.\")\n",
    "    except StopIteration:\n",
    "        print(f\"Error: {file_path} is empty.\")\n",
    "\n",
    "# File paths\n",
    "test_small_path = \"test_small.txt\"\n",
    "train_path = \"train.txt\"\n",
    "\n"
   ]
  },
  {
   "cell_type": "code",
   "execution_count": 2,
   "metadata": {
    "colab": {
     "base_uri": "https://localhost:8080/"
    },
    "id": "A69DxPSc8vNs",
    "outputId": "5440e602-8ecd-44cf-d48d-2e8b00cdcc52"
   },
   "outputs": [
    {
     "name": "stdout",
     "output_type": "stream",
     "text": [
      "Head of test_small.txt:\n",
      "X1\tX2\tX3\n",
      "1\t1\t1\t1\n",
      "0\t0\t1\t1\n",
      "0\t1\t1\t0\n",
      "0\t1\t1\t0\n",
      "\n",
      "\n",
      "Head of train.txt:\n",
      "A1\tA2\tA3\tA4\tA5\tA6\tA7\tA8\tA9\tA10\tA11\tA12\tA13\t\n",
      "1\t1\t0\t0\t0\t0\t0\t0\t1\t1\t0\t0\t1\t0\n",
      "0\t0\t1\t1\t0\t1\t1\t0\t0\t0\t0\t0\t1\t0\n",
      "0\t1\t0\t1\t1\t0\t1\t0\t1\t1\t1\t0\t1\t1\n",
      "0\t0\t1\t0\t0\t1\t0\t1\t0\t1\t1\t1\t1\t0\n",
      "\n",
      "\n"
     ]
    }
   ],
   "source": [
    "# Take a peek at the datasets\n",
    "print_file_head(test_small_path)\n",
    "print_file_head(train_path)"
   ]
  },
  {
   "cell_type": "markdown",
   "metadata": {
    "id": "rFXHLhnhwiBR"
   },
   "source": [
    "### Build the Perceptron Model\n",
    "\n",
    "You will need to complete some of the function definitions below.  DO NOT import any other libraries to complete this. "
   ]
  },
  {
   "cell_type": "code",
   "execution_count": 3,
   "metadata": {
    "id": "cXAsP_lw3QwJ"
   },
   "outputs": [],
   "source": [
    "import math\n",
    "import itertools\n",
    "import re\n",
    "\n",
    "# Corpus reader, all columns but the last one are coordinates;\n",
    "#   the last column is the label\n",
    "def read_data(file_name):\n",
    "    f = open(file_name, 'r')\n",
    "\n",
    "    data = []\n",
    "    # Discard header line\n",
    "    f.readline()\n",
    "    for instance in f.readlines():\n",
    "        if not re.search('\\t', instance): continue\n",
    "        instance = list(map(int, instance.strip().split('\\t')))\n",
    "        # Add a dummy input so that w0 becomes the bias\n",
    "        instance = [-1] + instance\n",
    "        data.append(instance)\n",
    "    return data\n",
    "\n",
    "\n",
    "def dot_product(array1, array2):\n",
    "    \"\"\"Returns the dot product of two arrays.\"\"\"\n",
    "    return sum(a * b for a, b in zip(array1, array2))\n",
    "\n",
    "\n",
    "def sigmoid(x):\n",
    "    \"\"\"Returns the output of the sigmoid function on x.\"\"\"\n",
    "    return 1 / (1 + math.exp(-x))\n",
    "\n",
    "\n",
    "# The output of the model, which for the perceptron is \n",
    "# the sigmoid function applied to the dot product of \n",
    "# the instance and the weights\n",
    "def output(weights, instance):\n",
    "    \"\"\"Returns the perceptron output.\"\"\"\n",
    "    return sigmoid(dot_product(weights, instance))\n",
    "\n",
    "\n",
    "# Predict the label of an instance\n",
    "# You should output 1 if the output is >= 0.5, else output 0\n",
    "def predict(weights, instance):\n",
    "    \"\"\"Returns the perceptron prediction (0 or 1).\"\"\"\n",
    "    return 1 if output(weights, instance) >= 0.5 else 0\n",
    "\n",
    "\n",
    "# Accuracy = percent of correct predictions\n",
    "def get_accuracy(weights, instances):\n",
    "    \"\"\"Returns the percentage of correct predictions.\"\"\"\n",
    "    correct = sum([1 if predict(weights, instance) == instance[-1] else 0\n",
    "                   for instance in instances])\n",
    "    return correct * 100 / len(instances)\n",
    "\n",
    "\n",
    "# Train a perceptron with instances and hyperparameters:\n",
    "#       lr (learning rate) \n",
    "#       epochs\n",
    "# The implementation follows the definition of the perceptron\n",
    "def train_perceptron(instances, lr, epochs):\n",
    "    \"\"\"Trains the perceptron and returns the learned weights.\"\"\"\n",
    "    \n",
    "    # Initialize weights (including bias) to 0\n",
    "    weights = [0] * (len(instances[0]) - 1)\n",
    "\n",
    "    for _ in range(epochs):\n",
    "        for instance in instances:\n",
    "            # Compute perceptron output\n",
    "            in_value = dot_product(weights, instance)\n",
    "            out = sigmoid(in_value)\n",
    "\n",
    "            # Compute error\n",
    "            error = instance[-1] - out\n",
    "\n",
    "            # Update weights using gradient descent\n",
    "            for i in range(len(weights)):\n",
    "                weights[i] += lr * error * out * (1 - out) * instance[i]\n",
    "\n",
    "    return weights\n"
   ]
  },
  {
   "cell_type": "markdown",
   "metadata": {
    "id": "adBZuMlAwiBT"
   },
   "source": [
    "## Run it"
   ]
  },
  {
   "cell_type": "code",
   "execution_count": 6,
   "metadata": {
    "id": "50YvUza-BYQF"
   },
   "outputs": [
    {
     "name": "stdout",
     "output_type": "stream",
     "text": [
      "#tr: 400, epochs:   5, learning rate: 0.005; Accuracy (test, 14 instances): 71.4\n"
     ]
    }
   ],
   "source": [
    "instances_tr = read_data(\"train.txt\")\n",
    "instances_te = read_data(\"test_small.txt\")\n",
    "lr = 0.005\n",
    "epochs = 5\n",
    "weights = train_perceptron(instances_tr, lr, epochs)\n",
    "accuracy = get_accuracy(weights, instances_te)\n",
    "print(f\"#tr: {len(instances_tr):3}, epochs: {epochs:3}, learning rate: {lr:.3f}; \"\n",
    "      f\"Accuracy (test, {len(instances_te)} instances): {accuracy:.1f}\")"
   ]
  },
  {
   "cell_type": "markdown",
   "metadata": {
    "id": "CBXkvaiQMohX"
   },
   "source": [
    "## Questions\n",
    "\n",
    "Answer the following questions. Include your implementation and the output for each question."
   ]
  },
  {
   "cell_type": "markdown",
   "metadata": {
    "id": "YCQ6BEk1CBlr"
   },
   "source": [
    "\n",
    "\n",
    "### Question 1\n",
    "\n",
    "In `train_perceptron(instances, lr, epochs)`, we have the follosing code:\n",
    "```\n",
    "in_value = dot_product(weights, instance)\n",
    "output = sigmoid(in_value)\n",
    "error = instance[-1] - output\n",
    "```\n",
    "\n",
    "Why don't we have the following code snippet instead?\n",
    "```\n",
    "output = predict(weights, instance)\n",
    "error = instance[-1] - output\n",
    "```\n",
    "\n",
    "#### Answer \n",
    "In train_perceptron(), we use the sigmoid function instead of predict() because sigmoid produces a continuous, differentiable value between 0 and 1. This is required for gradient-based learning to allow smooth updates of the weights using gradient descent. If we used predict(), it would return only 0 or 1, and the error values would be discrete and not susceptible to useful learning.\n",
    "\n",
    "The application of sigmoid function avoids the application of abrupt non-informative updates from predict() which would dishearten good training. Small weight adjustments instead can reduce error gradually such that the model gets better over time. Therefore, while training, we apply sigmoid but while making final prediction, we apply predict() alone.\n",
    "\n",
    "\n"
   ]
  },
  {
   "cell_type": "markdown",
   "metadata": {
    "id": "JU3c3m6YL2rK"
   },
   "source": [
    "### Question 2\n",
    "Train the perceptron with the following hyperparameters and calculate the accuracy with the test dataset.\n",
    "\n",
    "```\n",
    "tr_percent = [5, 10, 25, 50, 75, 100] # percent of the training dataset to train with\n",
    "num_epochs = [5, 10, 20, 50, 100]              # number of epochs\n",
    "lr = [0.005, 0.01, 0.05]              # learning rate\n",
    "```\n",
    "\n",
    "TODO: Write your code below and include the output at the end of each training loop (NOT AFTER EACH EPOCH)\n",
    "of your code.The output should look like the following:\n",
    "```\n",
    "# tr:  20, epochs:   5, learning rate: 0.005; Accuracy (test, 100 instances): 68.0\n",
    "# tr:  20, epochs:  10, learning rate: 0.005; Accuracy (test, 100 instances): 68.0\n",
    "# tr:  20, epochs:  20, learning rate: 0.005; Accuracy (test, 100 instances): 68.0\n",
    "[and so on for all the combinations]\n",
    "```\n",
    "\n"
   ]
  },
  {
   "cell_type": "code",
   "execution_count": 11,
   "metadata": {},
   "outputs": [
    {
     "name": "stdout",
     "output_type": "stream",
     "text": [
      "# tr: 20, epochs:   5, learning rate: 0.005; Accuracy (test, 100 instances): 68.0\n",
      "# tr: 20, epochs:   5, learning rate: 0.010; Accuracy (test, 100 instances): 68.0\n",
      "# tr: 20, epochs:   5, learning rate: 0.050; Accuracy (test, 100 instances): 68.0\n",
      "# tr: 20, epochs:  10, learning rate: 0.005; Accuracy (test, 100 instances): 68.0\n",
      "# tr: 20, epochs:  10, learning rate: 0.010; Accuracy (test, 100 instances): 68.0\n",
      "# tr: 20, epochs:  10, learning rate: 0.050; Accuracy (test, 100 instances): 70.0\n",
      "# tr: 20, epochs:  20, learning rate: 0.005; Accuracy (test, 100 instances): 68.0\n",
      "# tr: 20, epochs:  20, learning rate: 0.010; Accuracy (test, 100 instances): 68.0\n",
      "# tr: 20, epochs:  20, learning rate: 0.050; Accuracy (test, 100 instances): 68.0\n",
      "# tr: 20, epochs:  50, learning rate: 0.005; Accuracy (test, 100 instances): 68.0\n",
      "# tr: 20, epochs:  50, learning rate: 0.010; Accuracy (test, 100 instances): 67.0\n",
      "# tr: 20, epochs:  50, learning rate: 0.050; Accuracy (test, 100 instances): 69.0\n",
      "# tr: 20, epochs: 100, learning rate: 0.005; Accuracy (test, 100 instances): 68.0\n",
      "# tr: 20, epochs: 100, learning rate: 0.010; Accuracy (test, 100 instances): 68.0\n",
      "# tr: 20, epochs: 100, learning rate: 0.050; Accuracy (test, 100 instances): 69.0\n",
      "# tr: 40, epochs:   5, learning rate: 0.005; Accuracy (test, 100 instances): 68.0\n",
      "# tr: 40, epochs:   5, learning rate: 0.010; Accuracy (test, 100 instances): 68.0\n",
      "# tr: 40, epochs:   5, learning rate: 0.050; Accuracy (test, 100 instances): 68.0\n",
      "# tr: 40, epochs:  10, learning rate: 0.005; Accuracy (test, 100 instances): 68.0\n",
      "# tr: 40, epochs:  10, learning rate: 0.010; Accuracy (test, 100 instances): 68.0\n",
      "# tr: 40, epochs:  10, learning rate: 0.050; Accuracy (test, 100 instances): 68.0\n",
      "# tr: 40, epochs:  20, learning rate: 0.005; Accuracy (test, 100 instances): 68.0\n",
      "# tr: 40, epochs:  20, learning rate: 0.010; Accuracy (test, 100 instances): 68.0\n",
      "# tr: 40, epochs:  20, learning rate: 0.050; Accuracy (test, 100 instances): 73.0\n",
      "# tr: 40, epochs:  50, learning rate: 0.005; Accuracy (test, 100 instances): 68.0\n",
      "# tr: 40, epochs:  50, learning rate: 0.010; Accuracy (test, 100 instances): 68.0\n",
      "# tr: 40, epochs:  50, learning rate: 0.050; Accuracy (test, 100 instances): 79.0\n",
      "# tr: 40, epochs: 100, learning rate: 0.005; Accuracy (test, 100 instances): 68.0\n",
      "# tr: 40, epochs: 100, learning rate: 0.010; Accuracy (test, 100 instances): 68.0\n",
      "# tr: 40, epochs: 100, learning rate: 0.050; Accuracy (test, 100 instances): 69.0\n",
      "# tr: 100, epochs:   5, learning rate: 0.005; Accuracy (test, 100 instances): 68.0\n",
      "# tr: 100, epochs:   5, learning rate: 0.010; Accuracy (test, 100 instances): 68.0\n",
      "# tr: 100, epochs:   5, learning rate: 0.050; Accuracy (test, 100 instances): 68.0\n",
      "# tr: 100, epochs:  10, learning rate: 0.005; Accuracy (test, 100 instances): 68.0\n",
      "# tr: 100, epochs:  10, learning rate: 0.010; Accuracy (test, 100 instances): 68.0\n",
      "# tr: 100, epochs:  10, learning rate: 0.050; Accuracy (test, 100 instances): 68.0\n",
      "# tr: 100, epochs:  20, learning rate: 0.005; Accuracy (test, 100 instances): 68.0\n",
      "# tr: 100, epochs:  20, learning rate: 0.010; Accuracy (test, 100 instances): 68.0\n",
      "# tr: 100, epochs:  20, learning rate: 0.050; Accuracy (test, 100 instances): 71.0\n",
      "# tr: 100, epochs:  50, learning rate: 0.005; Accuracy (test, 100 instances): 68.0\n",
      "# tr: 100, epochs:  50, learning rate: 0.010; Accuracy (test, 100 instances): 72.0\n",
      "# tr: 100, epochs:  50, learning rate: 0.050; Accuracy (test, 100 instances): 72.0\n",
      "# tr: 100, epochs: 100, learning rate: 0.005; Accuracy (test, 100 instances): 68.0\n",
      "# tr: 100, epochs: 100, learning rate: 0.010; Accuracy (test, 100 instances): 75.0\n",
      "# tr: 100, epochs: 100, learning rate: 0.050; Accuracy (test, 100 instances): 75.0\n",
      "# tr: 200, epochs:   5, learning rate: 0.005; Accuracy (test, 100 instances): 68.0\n",
      "# tr: 200, epochs:   5, learning rate: 0.010; Accuracy (test, 100 instances): 68.0\n",
      "# tr: 200, epochs:   5, learning rate: 0.050; Accuracy (test, 100 instances): 74.0\n",
      "# tr: 200, epochs:  10, learning rate: 0.005; Accuracy (test, 100 instances): 68.0\n",
      "# tr: 200, epochs:  10, learning rate: 0.010; Accuracy (test, 100 instances): 68.0\n",
      "# tr: 200, epochs:  10, learning rate: 0.050; Accuracy (test, 100 instances): 75.0\n",
      "# tr: 200, epochs:  20, learning rate: 0.005; Accuracy (test, 100 instances): 68.0\n",
      "# tr: 200, epochs:  20, learning rate: 0.010; Accuracy (test, 100 instances): 68.0\n",
      "# tr: 200, epochs:  20, learning rate: 0.050; Accuracy (test, 100 instances): 69.0\n",
      "# tr: 200, epochs:  50, learning rate: 0.005; Accuracy (test, 100 instances): 69.0\n",
      "# tr: 200, epochs:  50, learning rate: 0.010; Accuracy (test, 100 instances): 70.0\n",
      "# tr: 200, epochs:  50, learning rate: 0.050; Accuracy (test, 100 instances): 74.0\n",
      "# tr: 200, epochs: 100, learning rate: 0.005; Accuracy (test, 100 instances): 74.0\n",
      "# tr: 200, epochs: 100, learning rate: 0.010; Accuracy (test, 100 instances): 78.0\n",
      "# tr: 200, epochs: 100, learning rate: 0.050; Accuracy (test, 100 instances): 77.0\n",
      "# tr: 300, epochs:   5, learning rate: 0.005; Accuracy (test, 100 instances): 68.0\n",
      "# tr: 300, epochs:   5, learning rate: 0.010; Accuracy (test, 100 instances): 68.0\n",
      "# tr: 300, epochs:   5, learning rate: 0.050; Accuracy (test, 100 instances): 69.0\n",
      "# tr: 300, epochs:  10, learning rate: 0.005; Accuracy (test, 100 instances): 68.0\n",
      "# tr: 300, epochs:  10, learning rate: 0.010; Accuracy (test, 100 instances): 68.0\n",
      "# tr: 300, epochs:  10, learning rate: 0.050; Accuracy (test, 100 instances): 72.0\n",
      "# tr: 300, epochs:  20, learning rate: 0.005; Accuracy (test, 100 instances): 68.0\n",
      "# tr: 300, epochs:  20, learning rate: 0.010; Accuracy (test, 100 instances): 68.0\n",
      "# tr: 300, epochs:  20, learning rate: 0.050; Accuracy (test, 100 instances): 79.0\n",
      "# tr: 300, epochs:  50, learning rate: 0.005; Accuracy (test, 100 instances): 69.0\n",
      "# tr: 300, epochs:  50, learning rate: 0.010; Accuracy (test, 100 instances): 78.0\n",
      "# tr: 300, epochs:  50, learning rate: 0.050; Accuracy (test, 100 instances): 81.0\n",
      "# tr: 300, epochs: 100, learning rate: 0.005; Accuracy (test, 100 instances): 78.0\n",
      "# tr: 300, epochs: 100, learning rate: 0.010; Accuracy (test, 100 instances): 80.0\n",
      "# tr: 300, epochs: 100, learning rate: 0.050; Accuracy (test, 100 instances): 79.0\n",
      "# tr: 400, epochs:   5, learning rate: 0.005; Accuracy (test, 100 instances): 68.0\n",
      "# tr: 400, epochs:   5, learning rate: 0.010; Accuracy (test, 100 instances): 68.0\n",
      "# tr: 400, epochs:   5, learning rate: 0.050; Accuracy (test, 100 instances): 74.0\n",
      "# tr: 400, epochs:  10, learning rate: 0.005; Accuracy (test, 100 instances): 68.0\n",
      "# tr: 400, epochs:  10, learning rate: 0.010; Accuracy (test, 100 instances): 68.0\n",
      "# tr: 400, epochs:  10, learning rate: 0.050; Accuracy (test, 100 instances): 76.0\n",
      "# tr: 400, epochs:  20, learning rate: 0.005; Accuracy (test, 100 instances): 69.0\n",
      "# tr: 400, epochs:  20, learning rate: 0.010; Accuracy (test, 100 instances): 69.0\n",
      "# tr: 400, epochs:  20, learning rate: 0.050; Accuracy (test, 100 instances): 78.0\n",
      "# tr: 400, epochs:  50, learning rate: 0.005; Accuracy (test, 100 instances): 73.0\n",
      "# tr: 400, epochs:  50, learning rate: 0.010; Accuracy (test, 100 instances): 77.0\n",
      "# tr: 400, epochs:  50, learning rate: 0.050; Accuracy (test, 100 instances): 80.0\n",
      "# tr: 400, epochs: 100, learning rate: 0.005; Accuracy (test, 100 instances): 77.0\n",
      "# tr: 400, epochs: 100, learning rate: 0.010; Accuracy (test, 100 instances): 80.0\n",
      "# tr: 400, epochs: 100, learning rate: 0.050; Accuracy (test, 100 instances): 79.0\n"
     ]
    }
   ],
   "source": [
    "import random\n",
    "\n",
    "def train_and_evaluate(train_data, test_data, tr_percent, num_epochs, lr):\n",
    "    \"\"\"Trains the perceptron on different training sizes and evaluates it.\"\"\"\n",
    "    train_size = int(len(train_data) * (tr_percent / 100))\n",
    "    train_subset = random.sample(train_data, train_size)  # Select a subset of training data\n",
    "    \n",
    "    weights = train_perceptron(train_subset, lr, num_epochs)  # Train the perceptron\n",
    "    accuracy = get_accuracy(weights, test_data)  # Compute accuracy on test set\n",
    "    \n",
    "    print(f\"# tr: {train_size}, epochs: {num_epochs:3}, learning rate: {lr:.3f}; Accuracy (test, {len(test_data)} instances): {accuracy:.1f}\")\n",
    "\n",
    "# Load datasets\n",
    "train_data = read_data(\"train.txt\")  # Assuming training data is in train.txt\n",
    "test_data = read_data(\"test.txt\")    # Assuming test data is in test.txt\n",
    "\n",
    "# Define hyperparameter values\n",
    "tr_percentages = [5, 10, 25, 50, 75, 100]\n",
    "num_epochs_list = [5, 10, 20, 50, 100]\n",
    "lr_values = [0.005, 0.01, 0.05]\n",
    "\n",
    "# Run training and evaluation for each combination of hyperparameters\n",
    "for tr_percent in tr_percentages:\n",
    "    for num_epochs in num_epochs_list:\n",
    "        for lr in lr_values:\n",
    "            train_and_evaluate(train_data, test_data, tr_percent, num_epochs, lr)\n"
   ]
  },
  {
   "cell_type": "code",
   "execution_count": 8,
   "metadata": {
    "id": "G-VKJOUu2BTp"
   },
   "outputs": [
    {
     "name": "stdout",
     "output_type": "stream",
     "text": [
      "#tr: 20, epochs: 100, learning rate: 0.005; Accuracy (test, 14 instances): 85.7\n",
      "#tr: 40, epochs: 100, learning rate: 0.005; Accuracy (test, 14 instances): 71.4\n",
      "#tr: 100, epochs: 100, learning rate: 0.005; Accuracy (test, 14 instances): 71.4\n",
      "#tr: 200, epochs: 100, learning rate: 0.005; Accuracy (test, 14 instances): 85.7\n",
      "#tr: 300, epochs: 100, learning rate: 0.005; Accuracy (test, 14 instances): 85.7\n",
      "#tr: 400, epochs: 100, learning rate: 0.005; Accuracy (test, 14 instances): 71.4\n",
      "#tr: 20, epochs: 100, learning rate: 0.010; Accuracy (test, 14 instances): 42.9\n",
      "#tr: 40, epochs: 100, learning rate: 0.010; Accuracy (test, 14 instances): 85.7\n",
      "#tr: 100, epochs: 100, learning rate: 0.010; Accuracy (test, 14 instances): 28.6\n",
      "#tr: 200, epochs: 100, learning rate: 0.010; Accuracy (test, 14 instances): 85.7\n",
      "#tr: 300, epochs: 100, learning rate: 0.010; Accuracy (test, 14 instances): 85.7\n",
      "#tr: 400, epochs: 100, learning rate: 0.010; Accuracy (test, 14 instances): 71.4\n",
      "#tr: 20, epochs: 100, learning rate: 0.050; Accuracy (test, 14 instances): 42.9\n",
      "#tr: 40, epochs: 100, learning rate: 0.050; Accuracy (test, 14 instances): 42.9\n",
      "#tr: 100, epochs: 100, learning rate: 0.050; Accuracy (test, 14 instances): 28.6\n",
      "#tr: 200, epochs: 100, learning rate: 0.050; Accuracy (test, 14 instances): 85.7\n",
      "#tr: 300, epochs: 100, learning rate: 0.050; Accuracy (test, 14 instances): 85.7\n",
      "#tr: 400, epochs: 100, learning rate: 0.050; Accuracy (test, 14 instances): 71.4\n"
     ]
    }
   ],
   "source": [
    "instances_tr = read_data(\"train.txt\")\n",
    "instances_te = read_data(\"test_small.txt\")\n",
    "tr_percent = [5, 10, 25, 50, 75, 100] # percent of the training dataset to train with\n",
    "num_epochs = [5, 10, 20, 50, 100]     # number of epochs\n",
    "lr_array = [0.005, 0.01, 0.05]        # learning rate\n",
    "\n",
    "for lr in lr_array:\n",
    "  for tr_size in tr_percent:\n",
    "    for epochs in num_epochs:\n",
    "      size =  round(len(instances_tr)*tr_size/100)\n",
    "      pre_instances = instances_tr[0:size]\n",
    "      weights = train_perceptron(pre_instances, lr, epochs)\n",
    "      accuracy = get_accuracy(weights, instances_te)\n",
    "    print(f\"#tr: {len(pre_instances):0}, epochs: {epochs:3}, learning rate: {lr:.3f}; \"\n",
    "            f\"Accuracy (test, {len(instances_te)} instances): {accuracy:.1f}\")"
   ]
  },
  {
   "cell_type": "markdown",
   "metadata": {
    "id": "OFB9MtwML24O"
   },
   "source": [
    "### Question 3\n",
    "Write a couple paragraphs interpreting the results with all the combinations of hyperparameters. Drawing a plot will probably help you make a point. In particular, answer the following:\n",
    "- A. Do you need to train with all the training dataset to get the highest accuracy with the test dataset?\n",
    "- B. How do you justify that training the second run obtains worse accuracy than the first one (despite the second one uses more training data)?\n",
    "   ```\n",
    "#tr: 100, epochs:  20, learning rate: 0.050; Accuracy (test, 100 instances): 71.0\n",
    "#tr: 200, epochs:  20, learning rate: 0.005; Accuracy (test, 100 instances): 68.0\n",
    "```\n",
    "- C. Can you get higher accuracy with additional hyperparameters (higher than `80.0`)?\n",
    "- D. Is it always worth training for more epochs (while keeping all other hyperparameters fixed)?\n",
    "\n",
    "#### TODO: Add your answer here (code and text)\n",
    "\n"
   ]
  },
  {
   "cell_type": "code",
   "execution_count": 13,
   "metadata": {},
   "outputs": [
    {
     "name": "stdout",
     "output_type": "stream",
     "text": [
      "# tr: 20, epochs:   5, learning rate: 0.005; Accuracy (test, 100 instances): 68.0\n",
      "# tr: 20, epochs:   5, learning rate: 0.010; Accuracy (test, 100 instances): 68.0\n",
      "# tr: 20, epochs:   5, learning rate: 0.050; Accuracy (test, 100 instances): 68.0\n",
      "# tr: 20, epochs:  10, learning rate: 0.005; Accuracy (test, 100 instances): 68.0\n",
      "# tr: 20, epochs:  10, learning rate: 0.010; Accuracy (test, 100 instances): 68.0\n",
      "# tr: 20, epochs:  10, learning rate: 0.050; Accuracy (test, 100 instances): 74.0\n",
      "# tr: 20, epochs:  20, learning rate: 0.005; Accuracy (test, 100 instances): 68.0\n",
      "# tr: 20, epochs:  20, learning rate: 0.010; Accuracy (test, 100 instances): 68.0\n",
      "# tr: 20, epochs:  20, learning rate: 0.050; Accuracy (test, 100 instances): 69.0\n",
      "# tr: 20, epochs:  50, learning rate: 0.005; Accuracy (test, 100 instances): 68.0\n",
      "# tr: 20, epochs:  50, learning rate: 0.010; Accuracy (test, 100 instances): 52.0\n",
      "# tr: 20, epochs:  50, learning rate: 0.050; Accuracy (test, 100 instances): 70.0\n",
      "# tr: 20, epochs: 100, learning rate: 0.005; Accuracy (test, 100 instances): 70.0\n",
      "# tr: 20, epochs: 100, learning rate: 0.010; Accuracy (test, 100 instances): 68.0\n",
      "# tr: 20, epochs: 100, learning rate: 0.050; Accuracy (test, 100 instances): 62.0\n",
      "# tr: 40, epochs:   5, learning rate: 0.005; Accuracy (test, 100 instances): 68.0\n",
      "# tr: 40, epochs:   5, learning rate: 0.010; Accuracy (test, 100 instances): 68.0\n",
      "# tr: 40, epochs:   5, learning rate: 0.050; Accuracy (test, 100 instances): 68.0\n",
      "# tr: 40, epochs:  10, learning rate: 0.005; Accuracy (test, 100 instances): 68.0\n",
      "# tr: 40, epochs:  10, learning rate: 0.010; Accuracy (test, 100 instances): 68.0\n",
      "# tr: 40, epochs:  10, learning rate: 0.050; Accuracy (test, 100 instances): 68.0\n",
      "# tr: 40, epochs:  20, learning rate: 0.005; Accuracy (test, 100 instances): 68.0\n",
      "# tr: 40, epochs:  20, learning rate: 0.010; Accuracy (test, 100 instances): 69.0\n",
      "# tr: 40, epochs:  20, learning rate: 0.050; Accuracy (test, 100 instances): 68.0\n",
      "# tr: 40, epochs:  50, learning rate: 0.005; Accuracy (test, 100 instances): 72.0\n",
      "# tr: 40, epochs:  50, learning rate: 0.010; Accuracy (test, 100 instances): 68.0\n",
      "# tr: 40, epochs:  50, learning rate: 0.050; Accuracy (test, 100 instances): 73.0\n",
      "# tr: 40, epochs: 100, learning rate: 0.005; Accuracy (test, 100 instances): 72.0\n",
      "# tr: 40, epochs: 100, learning rate: 0.010; Accuracy (test, 100 instances): 71.0\n",
      "# tr: 40, epochs: 100, learning rate: 0.050; Accuracy (test, 100 instances): 68.0\n",
      "# tr: 100, epochs:   5, learning rate: 0.005; Accuracy (test, 100 instances): 68.0\n",
      "# tr: 100, epochs:   5, learning rate: 0.010; Accuracy (test, 100 instances): 68.0\n",
      "# tr: 100, epochs:   5, learning rate: 0.050; Accuracy (test, 100 instances): 68.0\n",
      "# tr: 100, epochs:  10, learning rate: 0.005; Accuracy (test, 100 instances): 68.0\n",
      "# tr: 100, epochs:  10, learning rate: 0.010; Accuracy (test, 100 instances): 68.0\n",
      "# tr: 100, epochs:  10, learning rate: 0.050; Accuracy (test, 100 instances): 70.0\n",
      "# tr: 100, epochs:  20, learning rate: 0.005; Accuracy (test, 100 instances): 68.0\n",
      "# tr: 100, epochs:  20, learning rate: 0.010; Accuracy (test, 100 instances): 68.0\n",
      "# tr: 100, epochs:  20, learning rate: 0.050; Accuracy (test, 100 instances): 70.0\n",
      "# tr: 100, epochs:  50, learning rate: 0.005; Accuracy (test, 100 instances): 69.0\n",
      "# tr: 100, epochs:  50, learning rate: 0.010; Accuracy (test, 100 instances): 76.0\n",
      "# tr: 100, epochs:  50, learning rate: 0.050; Accuracy (test, 100 instances): 78.0\n",
      "# tr: 100, epochs: 100, learning rate: 0.005; Accuracy (test, 100 instances): 70.0\n",
      "# tr: 100, epochs: 100, learning rate: 0.010; Accuracy (test, 100 instances): 72.0\n",
      "# tr: 100, epochs: 100, learning rate: 0.050; Accuracy (test, 100 instances): 76.0\n",
      "# tr: 200, epochs:   5, learning rate: 0.005; Accuracy (test, 100 instances): 68.0\n",
      "# tr: 200, epochs:   5, learning rate: 0.010; Accuracy (test, 100 instances): 68.0\n",
      "# tr: 200, epochs:   5, learning rate: 0.050; Accuracy (test, 100 instances): 69.0\n",
      "# tr: 200, epochs:  10, learning rate: 0.005; Accuracy (test, 100 instances): 68.0\n",
      "# tr: 200, epochs:  10, learning rate: 0.010; Accuracy (test, 100 instances): 68.0\n",
      "# tr: 200, epochs:  10, learning rate: 0.050; Accuracy (test, 100 instances): 74.0\n",
      "# tr: 200, epochs:  20, learning rate: 0.005; Accuracy (test, 100 instances): 68.0\n",
      "# tr: 200, epochs:  20, learning rate: 0.010; Accuracy (test, 100 instances): 69.0\n",
      "# tr: 200, epochs:  20, learning rate: 0.050; Accuracy (test, 100 instances): 77.0\n",
      "# tr: 200, epochs:  50, learning rate: 0.005; Accuracy (test, 100 instances): 72.0\n",
      "# tr: 200, epochs:  50, learning rate: 0.010; Accuracy (test, 100 instances): 75.0\n",
      "# tr: 200, epochs:  50, learning rate: 0.050; Accuracy (test, 100 instances): 77.0\n",
      "# tr: 200, epochs: 100, learning rate: 0.005; Accuracy (test, 100 instances): 71.0\n",
      "# tr: 200, epochs: 100, learning rate: 0.010; Accuracy (test, 100 instances): 78.0\n",
      "# tr: 200, epochs: 100, learning rate: 0.050; Accuracy (test, 100 instances): 78.0\n",
      "# tr: 300, epochs:   5, learning rate: 0.005; Accuracy (test, 100 instances): 68.0\n",
      "# tr: 300, epochs:   5, learning rate: 0.010; Accuracy (test, 100 instances): 68.0\n",
      "# tr: 300, epochs:   5, learning rate: 0.050; Accuracy (test, 100 instances): 70.0\n",
      "# tr: 300, epochs:  10, learning rate: 0.005; Accuracy (test, 100 instances): 68.0\n",
      "# tr: 300, epochs:  10, learning rate: 0.010; Accuracy (test, 100 instances): 68.0\n",
      "# tr: 300, epochs:  10, learning rate: 0.050; Accuracy (test, 100 instances): 80.0\n",
      "# tr: 300, epochs:  20, learning rate: 0.005; Accuracy (test, 100 instances): 68.0\n",
      "# tr: 300, epochs:  20, learning rate: 0.010; Accuracy (test, 100 instances): 69.0\n",
      "# tr: 300, epochs:  20, learning rate: 0.050; Accuracy (test, 100 instances): 76.0\n",
      "# tr: 300, epochs:  50, learning rate: 0.005; Accuracy (test, 100 instances): 69.0\n",
      "# tr: 300, epochs:  50, learning rate: 0.010; Accuracy (test, 100 instances): 77.0\n",
      "# tr: 300, epochs:  50, learning rate: 0.050; Accuracy (test, 100 instances): 77.0\n",
      "# tr: 300, epochs: 100, learning rate: 0.005; Accuracy (test, 100 instances): 72.0\n",
      "# tr: 300, epochs: 100, learning rate: 0.010; Accuracy (test, 100 instances): 77.0\n",
      "# tr: 300, epochs: 100, learning rate: 0.050; Accuracy (test, 100 instances): 80.0\n",
      "# tr: 400, epochs:   5, learning rate: 0.005; Accuracy (test, 100 instances): 68.0\n",
      "# tr: 400, epochs:   5, learning rate: 0.010; Accuracy (test, 100 instances): 68.0\n",
      "# tr: 400, epochs:   5, learning rate: 0.050; Accuracy (test, 100 instances): 71.0\n",
      "# tr: 400, epochs:  10, learning rate: 0.005; Accuracy (test, 100 instances): 68.0\n",
      "# tr: 400, epochs:  10, learning rate: 0.010; Accuracy (test, 100 instances): 69.0\n",
      "# tr: 400, epochs:  10, learning rate: 0.050; Accuracy (test, 100 instances): 77.0\n",
      "# tr: 400, epochs:  20, learning rate: 0.005; Accuracy (test, 100 instances): 68.0\n",
      "# tr: 400, epochs:  20, learning rate: 0.010; Accuracy (test, 100 instances): 69.0\n",
      "# tr: 400, epochs:  20, learning rate: 0.050; Accuracy (test, 100 instances): 80.0\n",
      "# tr: 400, epochs:  50, learning rate: 0.005; Accuracy (test, 100 instances): 73.0\n",
      "# tr: 400, epochs:  50, learning rate: 0.010; Accuracy (test, 100 instances): 77.0\n",
      "# tr: 400, epochs:  50, learning rate: 0.050; Accuracy (test, 100 instances): 80.0\n",
      "# tr: 400, epochs: 100, learning rate: 0.005; Accuracy (test, 100 instances): 77.0\n",
      "# tr: 400, epochs: 100, learning rate: 0.010; Accuracy (test, 100 instances): 79.0\n",
      "# tr: 400, epochs: 100, learning rate: 0.050; Accuracy (test, 100 instances): 80.0\n"
     ]
    },
    {
     "data": {
      "image/png": "[encoded data removed]",
      "text/plain": [
       "<Figure size 1000x600 with 1 Axes>"
      ]
     },
     "metadata": {},
     "output_type": "display_data"
    }
   ],
   "source": [
    "import random\n",
    "import matplotlib.pyplot as plt\n",
    "\n",
    "def train_and_evaluate(train_data, test_data, tr_percent, num_epochs, lr):\n",
    "    \"\"\"Trains the perceptron on different training sizes and evaluates it.\"\"\"\n",
    "    train_size = int(len(train_data) * (tr_percent / 100))\n",
    "    train_subset = random.sample(train_data, train_size)  # Select a subset of training data\n",
    "    \n",
    "    weights = train_perceptron(train_subset, lr, num_epochs)  # Train the perceptron\n",
    "    accuracy = get_accuracy(weights, test_data)  # Compute accuracy on test set\n",
    "    \n",
    "    print(f\"# tr: {train_size}, epochs: {num_epochs:3}, learning rate: {lr:.3f}; Accuracy (test, {len(test_data)} instances): {accuracy:.1f}\")\n",
    "    return train_size, num_epochs, lr, accuracy\n",
    "\n",
    "# Load datasets\n",
    "train_data = read_data(\"train.txt\")  # Assuming training data is in train.txt\n",
    "test_data = read_data(\"test.txt\")    # Assuming test data is in test.txt\n",
    "\n",
    "# Define hyperparameter values\n",
    "tr_percentages = [5, 10, 25, 50, 75, 100]\n",
    "num_epochs_list = [5, 10, 20, 50, 100]\n",
    "lr_values = [0.005, 0.01, 0.05]\n",
    "\n",
    "# Store results for plotting\n",
    "results = []\n",
    "\n",
    "# Run training and evaluation for each combination of hyperparameters\n",
    "for tr_percent in tr_percentages:\n",
    "    for num_epochs in num_epochs_list:\n",
    "        for lr in lr_values:\n",
    "            results.append(train_and_evaluate(train_data, test_data, tr_percent, num_epochs, lr))\n",
    "\n",
    "# Ensure plt is defined before plotting\n",
    "import matplotlib.pyplot as plt\n",
    "\n",
    "# Plot results\n",
    "plt.figure(figsize=(10, 6))\n",
    "for lr in lr_values:\n",
    "    subset = [(tr, acc) for tr, ep, l, acc in results if l == lr]\n",
    "    subset.sort()\n",
    "    plt.plot([x[0] for x in subset], [x[1] for x in subset], marker='o', label=f'lr={lr}')\n",
    "\n",
    "plt.xlabel(\"Training Data Percentage\")\n",
    "plt.ylabel(\"Accuracy (%)\")\n",
    "plt.title(\"Perceptron Accuracy vs. Training Data Size\")\n",
    "plt.legend()\n",
    "plt.show()\n",
    "\n",
    "### Interpretation of Results\n",
    "\n",
    "\n",
    "# B. The second run obtained worse  despite using more training data due to potential overfitting or ineffective weight updates. As training data increases, the perceptron might struggle with noise or conflicting patterns, leading to suboptimal generalization.\n",
    "\n",
    "# C. Exploring additional hyperparameters like different activation functions, adaptive learning rates, or more complex architectures (e.g., multilayer perceptrons) might improve accuracy beyond 80%. Fine-tuning these parameters could lead to better convergence.\n",
    "\n",
    "# D. Training for more epochs does not always improve accuracy. If the learning rate is too high, the model might oscillate without converging properly. Conversely, if the learning rate is too low, too many epochs may lead to overfitting, decreasing performance on the test s"
   ]
  },
  {
   "cell_type": "markdown",
   "metadata": {
    "id": "38rA_Kp3wiBX"
   },
   "source": []
  },
  {
   "cell_type": "markdown",
   "metadata": {},
   "source": [
    "### Interpretation of Results\n",
    "\n",
    "A. The results indicate that training with the entire dataset does not always yield the highest accuracy. For instance, training with 200 or 300 examples resulted in comparable or better accuracy than training with all 400 examples. This suggests that a well-chosen subset of data can generalize well to unseen test data without requiring the full dataset.\n",
    "\n",
    "B. The second run obtained worse accuracy despite using more training data due to potential overfitting or ineffective weight updates. As training data increases, the perceptron might struggle with noise or conflicting patterns, leading to suboptimal generalization.\n",
    "\n",
    "C. Exploring additional hyperparameters like different activation functions, adaptive learning rates, or more complex architectures (e.g., multilayer perceptrons) might improve accuracy beyond 80%. Fine-tuning these parameters could lead to better convergence.\n",
    "\n",
    "D. Training for more epochs does not always improve accuracy. If the learning rate is too high, the mode"
   ]
  },
  {
   "cell_type": "code",
   "execution_count": null,
   "metadata": {},
   "outputs": [],
   "source": []
  }
 ],
 "metadata": {
  "accelerator": "GPU",
  "colab": {
   "collapsed_sections": [],
   "name": "HW2_The_Perceptron.ipynb",
   "provenance": []
  },
  "kernelspec": {
   "display_name": "Python 3 (ipykernel)",
   "language": "python",
   "name": "python3"
  },
  "language_info": {
   "codemirror_mode": {
    "name": "ipython",
    "version": 3
   },
   "file_extension": ".py",
   "mimetype": "text/x-python",
   "name": "python",
   "nbconvert_exporter": "python",
   "pygments_lexer": "ipython3",
   "version": "3.11.5"
  }
 },
 "nbformat": 4,
 "nbformat_minor": 2
}
